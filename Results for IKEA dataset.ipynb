{
 "cells": [
  {
   "cell_type": "code",
   "execution_count": 1,
   "metadata": {
    "collapsed": false,
    "deletable": true,
    "editable": true,
    "scrolled": true
   },
   "outputs": [
    {
     "name": "stderr",
     "output_type": "stream",
     "text": [
      "Using Theano backend.\n"
     ]
    },
    {
     "name": "stdout",
     "output_type": "stream",
     "text": [
      "Gallery yolo detections loaded!\n",
      "Gallery CNN features loaded!\n",
      "<_io.BufferedReader name='pickles/clock_vgg16.pickle'> loaded\n",
      "<_io.BufferedReader name='pickles/bed_vgg16.pickle'> loaded\n",
      "<_io.BufferedReader name='pickles/chair_vgg16.pickle'> loaded\n",
      "<_io.BufferedReader name='pickles/plant_pot_vgg16.pickle'> loaded\n",
      "<_io.BufferedReader name='pickles/sofa_vgg16.pickle'> loaded\n",
      "<_io.BufferedReader name='pickles/table_vgg16.pickle'> loaded\n",
      "All engines initiated\n"
     ]
    }
   ],
   "source": [
    "import cv2\n",
    "import os\n",
    "import pickle\n",
    "import time\n",
    "from finder import return_similar\n",
    "from app.web_interface import get_engine, ENGINE_CHAIR, ENGINE_SOFA, ENGINE_POT"
   ]
  },
  {
   "cell_type": "code",
   "execution_count": 2,
   "metadata": {
    "collapsed": true,
    "deletable": true,
    "editable": true,
    "scrolled": true
   },
   "outputs": [],
   "source": [
    "QUERY_IMAGES = './app/static/images/room_scenes/dev'\n",
    "ALLOWED_CLASSES = ['chair']\n",
    "ALL_CLASSES = ['chair', 'pottedplant', 'plant_pot', 'table', 'diningtable', 'sofa', 'mirror', 'pillow']\n",
    "SEARCH_DIR = './app/static/images/sofa'\n",
    "ENGINE = ENGINE_SOFA"
   ]
  },
  {
   "cell_type": "code",
   "execution_count": 3,
   "metadata": {
    "collapsed": false,
    "deletable": true,
    "editable": true,
    "scrolled": true
   },
   "outputs": [],
   "source": [
    "def timeit(func):\n",
    "    \"\"\"Measure function running time\"\"\"\n",
    "    def timed(*args, **kw):\n",
    "        ts = time.time()\n",
    "        result = func(*args, **kw)\n",
    "        te = time.time()\n",
    "        print('%s was completed in %2.2f sec' %\n",
    "                     (func.__name__, te - ts))\n",
    "        return result\n",
    "    return timed"
   ]
  },
  {
   "cell_type": "code",
   "execution_count": 4,
   "metadata": {
    "collapsed": false,
    "deletable": true,
    "editable": true,
    "scrolled": true
   },
   "outputs": [],
   "source": [
    "with open(\"pickles/room_to_items.p\", \"rb\") as handle:\n",
    "    room_items = {}\n",
    "    pickle_data = pickle.load(handle)\n",
    "    for (key, value) in pickle_data.items():\n",
    "        room_items[os.path.basename(key)] = value"
   ]
  },
  {
   "cell_type": "code",
   "execution_count": 5,
   "metadata": {
    "collapsed": false,
    "deletable": true,
    "editable": true,
    "scrolled": true
   },
   "outputs": [
    {
     "name": "stdout",
     "output_type": "stream",
     "text": [
      "['chest of 3 drawers', 'mirror', 'pillow', 'quilt cover and 4 pillowcases', 'rug, high pile', 'cushion cover', 'work lamp', 'frame', 'box with compartments', 'handle']\n"
     ]
    }
   ],
   "source": [
    "print (room_items[\"ikea-a-fresh-way-to-keep-your-clothes-tidy__1364315963128-s4.jpg\"])"
   ]
  },
  {
   "cell_type": "code",
   "execution_count": 11,
   "metadata": {
    "collapsed": false,
    "deletable": true,
    "editable": true,
    "scrolled": true
   },
   "outputs": [],
   "source": [
    "with open(\"pickles/item_to_room.p\", 'rb') as handle :\n",
    "        ground_truth_data = {}\n",
    "        room_objects = {}\n",
    "        pickle_data = pickle.load(handle)\n",
    "        for (key, value) in pickle_data.items():\n",
    "            ground_truth_data[os.path.basename(key)] = value\n",
    "            for word in ALL_CLASSES:\n",
    "                if word in key:\n",
    "                    for room in value:\n",
    "                        if room == \"ikea-a-colourful-room-for-kids-to-get-creative__1364308442737-s4.jpg\":\n",
    "                            print(key)\n",
    "                        try:\n",
    "                            room_objects[os.path.basename(room)].append(word)\n",
    "                        except:\n",
    "                            room_objects[os.path.basename(room)] = []\n",
    "                            room_objects[os.path.basename(room)].append(word)\n",
    "#         print (ground_truth_data)"
   ]
  },
  {
   "cell_type": "code",
   "execution_count": 12,
   "metadata": {
    "collapsed": false,
    "deletable": true,
    "editable": true,
    "scrolled": true
   },
   "outputs": [
    {
     "ename": "KeyError",
     "evalue": "'ikea-a-colourful-room-for-kids-to-get-creative__1364308442737-s4.jpg'",
     "output_type": "error",
     "traceback": [
      "\u001b[0;31m---------------------------------------------------------------------------\u001b[0m",
      "\u001b[0;31mKeyError\u001b[0m                                  Traceback (most recent call last)",
      "\u001b[0;32m<ipython-input-12-0457e4a72724>\u001b[0m in \u001b[0;36m<module>\u001b[0;34m()\u001b[0m\n\u001b[0;32m----> 1\u001b[0;31m \u001b[0mprint\u001b[0m \u001b[0;34m(\u001b[0m\u001b[0mroom_objects\u001b[0m\u001b[0;34m[\u001b[0m\u001b[0;34m\"ikea-a-colourful-room-for-kids-to-get-creative__1364308442737-s4.jpg\"\u001b[0m\u001b[0;34m]\u001b[0m\u001b[0;34m)\u001b[0m\u001b[0;34m\u001b[0m\u001b[0m\n\u001b[0m\u001b[1;32m      2\u001b[0m \u001b[0mprint\u001b[0m \u001b[0;34m(\u001b[0m\u001b[0mground_truth_data\u001b[0m\u001b[0;34m[\u001b[0m\u001b[0;34m'702.922.98.jpg'\u001b[0m\u001b[0;34m]\u001b[0m\u001b[0;34m)\u001b[0m\u001b[0;34m\u001b[0m\u001b[0m\n",
      "\u001b[0;31mKeyError\u001b[0m: 'ikea-a-colourful-room-for-kids-to-get-creative__1364308442737-s4.jpg'"
     ]
    }
   ],
   "source": [
    "print (room_objects[\"ikea-a-colourful-room-for-kids-to-get-creative__1364308442737-s4.jpg\"])\n",
    "print (ground_truth_data['702.922.98.jpg'])\n"
   ]
  },
  {
   "cell_type": "code",
   "execution_count": null,
   "metadata": {
    "collapsed": true,
    "deletable": true,
    "editable": true,
    "scrolled": true
   },
   "outputs": [],
   "source": []
  },
  {
   "cell_type": "code",
   "execution_count": null,
   "metadata": {
    "collapsed": false,
    "deletable": true,
    "editable": true,
    "scrolled": false
   },
   "outputs": [],
   "source": []
  },
  {
   "cell_type": "markdown",
   "metadata": {
    "deletable": true,
    "editable": true
   },
   "source": [
    "Check if all images in dictionary"
   ]
  },
  {
   "cell_type": "code",
   "execution_count": 10,
   "metadata": {
    "collapsed": false,
    "deletable": true,
    "editable": true,
    "scrolled": true
   },
   "outputs": [
    {
     "name": "stdout",
     "output_type": "stream",
     "text": [
      ".DS_Store\n",
      "dev\n",
      "ikea-a-colourful-room-for-kids-to-get-creative__1364308442737-s4.jpg\n",
      "ikea-a-fresh-green-kitchen-for-fresh-green-cooking__1364316022551-s4.jpg\n",
      "ikea-a-fresh-look-for-a-first-bedroom__1364311992816-s4.jpg\n",
      "ikea-a-fresh-way-to-sort-store-and-save-space__1364309607529-s4.jpg\n",
      "ikea-a-grab-and-go-hallway-for-all-the-family__1364309608195-s4.jpg\n",
      "ikea-a-small-living-room-ready-for-whiling-the-afternoon-away__1364309460486-s4.jpg\n",
      "ikea-a-soft-pastel-place-to-nurture-and-grow__1364308476409-s4.jpg\n",
      "ikea-a-traditional-kitchen-for-the-modern-life__1364308465964-s4.jpg\n",
      "ikea-add-order-to-your-bedroom-with-the-brusali-wardrobe-in-white-from-ikea.-classic-style-at-an-afforable-price.-__1364309703765-s4.jpg\n",
      "ikea-an-entry-as-organised-as-you-are__1364308425157-s4.jpg\n",
      "ikea-bathroom-storage-__1364309108346-s4 2.jpg\n",
      "ikea-big-world-small-scale__1364319297214-s4.jpg\n",
      "ikea-big-world-small-scale__1364319297984-s4.jpg\n",
      "ikea-bright-storage-for-the-smallest-of-spaces__1364316014982-s4 2.jpg\n",
      "ikea-bring-a-touch-of-scandinavia-to-nap-time__1364309324925-s4.jpg\n",
      "ikea-bring-some-classic-colours-to-your-new-nursery__1364308475615-s4.jpg\n",
      "ikea-bring-some-sunshine-to-your-bedroom__1364308448898-s4.jpg\n",
      "ikea-calm-and-collected-small-space-entrance__1364309297343-s4.jpg\n",
      "ikea-classically-well-organised-from-top-to-bottom__1364319318729-s4.jpg\n",
      "ikea-country-style-charm-modern-performance__1364309677039-s4.jpg\n",
      "ikea-crisp-modern-design-perfect-for-breakfast-time__1364308406824-s4.jpg\n",
      "ikea-ditch-a-wardrobe-for-modern-creativity-with-hooks-and-rails__1364308395960-s4.jpg\n",
      "ikea-dress-up-your-bedroom-in-elegant-open-style__1364308388141-s4.jpg\n",
      "ikea-enjoy-a-traditional-scandinavian-family-setting.-clogs-optional.__1364308405550-s4.jpg\n",
      "ikea-find-outdoor-space-you-never-thought-you-had__1364308491911-s4.jpg\n",
      "ikea-for-fans-of-blue-and-contemporary-too__1364308506078-s4.jpg\n",
      "ikea-get-a-sleek-modern-look-with-subtle-contrasts__1364308463796-s4.jpg\n",
      "ikea-give-every-little-pig-and-shoe-a-pink-home__1364308503439-s4.jpg\n",
      "ikea-let-the-show-begin__1364319297660-s4.jpg\n",
      "ikea-living-room-by-day-sleeping-space-by-night.__1364309472217-s4.jpg\n",
      "ikea-living-with-children__1364309297641-s4.jpg\n",
      "ikea-make-it-personal-with-contrasts-__1364308467459-s4.jpg\n",
      "ikea-modern-scandinavian-design-that%E2%80%99s-easy-on-the-wallet__1364308432950-s4.jpg\n",
      "ikea-natural-beech-that-blends-in__1364308504799-s4.jpg\n",
      "ikea-nursery-ideas-that-keep-everything-handy__1364308366677-s4.jpg\n",
      "ikea-organise-up-to-keep-mess-down__1364308496832-s4.jpg\n",
      "ikea-put-exclamation-marks-on-your-wardrobe__1364308414356-s4.jpg\n",
      "ikea-reflect-your-modereflect-your-modern-style-in-glass-wood-and-aluminiumrn-style-in-glass-wood-and-aluminium__1364308427966-s4.jpg\n",
      "ikea-shoe-cabinet-bench-with-shoe-storage-hat-rack-and-mirror__1364308428919-s4.jpg\n",
      "ikea-sleep-play-and-the-cosy-moments-in-between__1364311994735-s4.jpg\n",
      "ikea-smooth-lines-with-organised-insides__1364308503140-s4.jpg\n",
      "ikea-snuggle-down-low-or-sleep-up-high__1364315930176-s4.jpg\n",
      "ikea-step-out-and-enjoy-the-season-outdoors__1364308503799-s4.jpg\n",
      "ikea-storage-for-those-that-like-the-tall-traditional-types__1364308430700-s4.jpg\n",
      "ikea-the-traditional-recipe-for-small-spaces.-just-add-friends-and-food.__1364308403963-s4.jpg\n",
      "ikea-use-the-space-you-have__1364308499054-s4.jpg\n"
     ]
    }
   ],
   "source": [
    "DIRECTORY = './app/static/images/room_scenes'\n",
    "for image in os.listdir(DIRECTORY):\n",
    "    try:\n",
    "        val = room_objects[image]\n",
    "    except KeyError:\n",
    "        print(image)"
   ]
  },
  {
   "cell_type": "markdown",
   "metadata": {
    "deletable": true,
    "editable": true
   },
   "source": [
    "Check what rooms have potted plants"
   ]
  },
  {
   "cell_type": "code",
   "execution_count": null,
   "metadata": {
    "collapsed": true,
    "deletable": true,
    "editable": true,
    "scrolled": true
   },
   "outputs": [],
   "source": [
    "\n",
    "        "
   ]
  },
  {
   "cell_type": "markdown",
   "metadata": {
    "deletable": true,
    "editable": true
   },
   "source": [
    "Ground truth data is in format dictionary(product image) = scene image"
   ]
  },
  {
   "cell_type": "code",
   "execution_count": 10,
   "metadata": {
    "collapsed": true,
    "deletable": true,
    "editable": true,
    "scrolled": true
   },
   "outputs": [],
   "source": [
    "def object_in_room(object_class, room):\n",
    "    if object_class == \"pottedplant\":\n",
    "        object_class = \"plant_pot\"\n",
    "    try:\n",
    "        objects = room_objects[os.path.basename(room)]\n",
    "        print('Objects in this room', objects)\n",
    "    except:\n",
    "        print('Room is not in dictionary!', room)\n",
    "        return False\n",
    "    for object_item in objects:\n",
    "        for word in object_item.split():\n",
    "            if word == \"table\" and object_class == \"diningtable\":\n",
    "                return True\n",
    "            if word == object_class:\n",
    "                print('Word = object class', word)\n",
    "                return True\n",
    "    print('object is not in the image')\n",
    "    return False\n",
    "\n",
    "\n",
    "def evaluation_test(query, result, ground_truth):\n",
    "#     print ('Checking objects for room', query)\n",
    "    for match in result:\n",
    "        for room in ground_truth[match]:\n",
    "#             print (match, ' is actually in room ', room)\n",
    "            if os.path.basename(room) == query:\n",
    "                return 1\n",
    "    return 0\n",
    "\n",
    "def calculate_accuracy(dataset, ground_truth, allowed_classes, k):\n",
    "    nb_correct = [0] * (k+1)\n",
    "    similar_images = [0] * (k+1)\n",
    "    nb_all = 0\n",
    "    nb_not_detected = 0\n",
    "    for image_file in os.listdir(dataset):\n",
    "        ndir = os.path.join(dataset, image_file)\n",
    "        test_image = cv2.imread(ndir, cv2.IMREAD_GRAYSCALE)\n",
    "        print(ndir)\n",
    "        if test_image is not None:         \n",
    "            for allowed_class in allowed_classes:\n",
    "                if not object_in_room(allowed_class, ndir):\n",
    "                    continue\n",
    "                else:\n",
    "                    search_dir, engine, static_path, object_class, object_image, object_image_path = get_engine(ndir, allowed_classes)\n",
    "                    if object_class ==\"all\":\n",
    "                        print('Object of allowed class was NOT successfully detected')\n",
    "                        nb_not_detected += 1\n",
    "                        continue\n",
    "                    nb_all += 1\n",
    "                    for j in range(1, k+1):\n",
    "                        similar_images = return_similar(object_image, search_dir, engine, j) \n",
    "                        res = evaluation_test(image_file, similar_images, ground_truth_data)\n",
    "                        nb_correct[j] += res\n",
    "                    for correct in nb_correct:\n",
    "                        print ('Accuracy so far is ', correct/nb_all)\n",
    "    print (\"Not detected images :\", nb_not_detected)\n",
    "    for i in range(1, k+1):\n",
    "        print ('Accuracy %i is %f' % (i, nb_correct[i]/nb_all))\n",
    "        print('Nb all', nb_all)\n",
    "    return [x/nb_all for x in nb_correct]\n",
    "            \n",
    "def accuracy_noyolo(dataset, ground_truth, allowed_classes, k, search_dir, engine):\n",
    "    nb_correct = [0] * (k+1)\n",
    "    similar_images = [0] * (k+1)\n",
    "    nb_all = 0\n",
    "    for image_file in os.listdir(dataset):\n",
    "        ndir = os.path.join(dataset, image_file)\n",
    "        test_image = cv2.imread(ndir, cv2.IMREAD_GRAYSCALE)\n",
    "        print(ndir)\n",
    "        if test_image is not None:         \n",
    "            for allowed_class in allowed_classes:\n",
    "                if not object_in_room(allowed_class, ndir):\n",
    "                    continue\n",
    "                else:          \n",
    "                    nb_all += 1\n",
    "                    for j in range(1, k+1):\n",
    "                        similar_images = return_similar(ndir, search_dir, engine, j) \n",
    "                        res = evaluation_test(image_file, similar_images, ground_truth_data)\n",
    "                        nb_correct[j] += res\n",
    "                    for correct in nb_correct:\n",
    "                        print ('Accuracy so far is ', correct/nb_all)\n",
    "    for i in range(1, k+1):\n",
    "        print ('Accuracy %i is %f' % (i, nb_correct[i]/nb_all))\n",
    "    print('Nb all', nb_all)\n",
    "    return [x/nb_all for x in nb_correct]\n",
    "        "
   ]
  },
  {
   "cell_type": "code",
   "execution_count": null,
   "metadata": {
    "collapsed": false,
    "deletable": true,
    "editable": true,
    "scrolled": false
   },
   "outputs": [],
   "source": [
    "calculate_accuracy(QUERY_IMAGES, ground_truth_data, ALLOWED_CLASSES, 30)"
   ]
  },
  {
   "cell_type": "code",
   "execution_count": null,
   "metadata": {
    "collapsed": false,
    "deletable": true,
    "editable": true,
    "scrolled": true
   },
   "outputs": [],
   "source": []
  },
  {
   "cell_type": "markdown",
   "metadata": {
    "deletable": true,
    "editable": true
   },
   "source": [
    "# Recall curve"
   ]
  },
  {
   "cell_type": "code",
   "execution_count": 21,
   "metadata": {
    "collapsed": true,
    "deletable": true,
    "editable": true,
    "scrolled": true
   },
   "outputs": [],
   "source": [
    "import plotly\n",
    "import plotly.plotly as py\n",
    "import plotly.graph_objs as go\n",
    "import numpy as np\n",
    "plotly.tools.set_credentials_file(username='ivonat', api_key='Ig4jufJUA0txrZFBUMOV')"
   ]
  },
  {
   "cell_type": "markdown",
   "metadata": {
    "deletable": true,
    "editable": true
   },
   "source": [
    "### Chair and sofa"
   ]
  },
  {
   "cell_type": "code",
   "execution_count": 22,
   "metadata": {
    "collapsed": true,
    "deletable": true,
    "editable": true,
    "scrolled": true
   },
   "outputs": [],
   "source": [
    "N = 30\n",
    "k = list(range(1, N+1))\n",
    "vgg19_yolo_chair = [0.238806,\n",
    "0.380597,\n",
    "0.440299,\n",
    "0.485075,\n",
    "0.544776,\n",
    "0.582090,\n",
    "0.626866,\n",
    "0.641791,\n",
    "0.649254,\n",
    "0.664179,\n",
    "0.679104,\n",
    "0.686567,\n",
    "0.701493,\n",
    "0.731343,\n",
    "0.753731,\n",
    "0.753731,\n",
    "0.776119,\n",
    "0.783582,\n",
    "0.783582,\n",
    "0.798507,\n",
    "0.798507,\n",
    "0.820896,\n",
    "0.820896,\n",
    "0.820896,\n",
    "0.820896,\n",
    "0.828358,\n",
    "0.835821,\n",
    "0.835821,\n",
    "0.843284,\n",
    "0.858209,]\n",
    "vgg16_yolo_chair = [0.216418,\n",
    "0.291045,\n",
    "0.395522,\n",
    "0.432836,\n",
    "0.500000,\n",
    "0.537313,\n",
    "0.552239,\n",
    "0.582090,\n",
    "0.619403,\n",
    "0.649254,\n",
    "0.664179,\n",
    "0.664179,\n",
    "0.671642,\n",
    "0.671642,\n",
    "0.679104,\n",
    "0.701493,\n",
    "0.716418,\n",
    "0.716418,\n",
    "0.716418,\n",
    "0.738806,\n",
    "0.761194,\n",
    "0.768657,\n",
    "0.768657,\n",
    "0.776119,\n",
    "0.783582,\n",
    "0.791045,\n",
    "0.805970,\n",
    "0.805970,\n",
    "0.820896,\n",
    "0.820896]\n",
    "bovw_chair = [0.013986,\n",
    "0.034965,\n",
    "0.041958,\n",
    "0.048951,\n",
    "0.062937,\n",
    "0.083916,\n",
    "0.097902,\n",
    "0.104895,\n",
    "0.111888,\n",
    "0.146853,\n",
    "0.153846,\n",
    "0.160839,\n",
    "0.174825,\n",
    "0.174825,\n",
    "0.174825,\n",
    "0.188811,\n",
    "0.188811,\n",
    "0.202797,\n",
    "0.209790,\n",
    "0.209790,\n",
    "0.209790,\n",
    "0.216783,\n",
    "0.216783,\n",
    "0.223776,\n",
    "0.230769,\n",
    "0.244755,\n",
    "0.258741,\n",
    "0.272727,\n",
    "0.279720,\n",
    "0.279720]\n",
    "vgg19_chair = [\n",
    "    0.062937,\n",
    "0.111888,\n",
    "0.139860,\n",
    "0.174825,\n",
    "0.202797,\n",
    "0.223776,\n",
    "0.251748,\n",
    "0.272727,\n",
    "0.286713,\n",
    "0.314685,\n",
    "0.335664,\n",
    "0.349650,\n",
    "0.377622,\n",
    "0.391608,\n",
    "0.419580,\n",
    "0.433566,\n",
    "0.440559,\n",
    "0.454545,\n",
    "0.454545,\n",
    "0.454545,\n",
    "0.468531,\n",
    "0.510490,\n",
    "0.531469,\n",
    "0.538462,\n",
    "0.552448,\n",
    "0.566434,\n",
    "0.573427,\n",
    "0.580420,\n",
    "0.587413,\n",
    "0.601399,\n",
    "]\n",
    "vgg16_chair = [0.062937,\n",
    "0.083916,\n",
    "0.125874,\n",
    "0.160839,\n",
    "0.167832,\n",
    "0.167832,\n",
    "0.188811,\n",
    "0.216783,\n",
    "0.230769,\n",
    "0.237762,\n",
    "0.258741,\n",
    "0.286713,\n",
    "0.307692,\n",
    "0.321678,\n",
    "0.321678,\n",
    "0.335664,\n",
    "0.335664,\n",
    "0.335664,\n",
    "0.342657,\n",
    "0.349650,\n",
    "0.363636,\n",
    "0.363636,\n",
    "0.370629,\n",
    "0.377622,\n",
    "0.384615,\n",
    "0.391608,\n",
    "0.391608,\n",
    "0.398601,\n",
    "0.405594,\n",
    "0.412587]"
   ]
  },
  {
   "cell_type": "code",
   "execution_count": 23,
   "metadata": {
    "collapsed": true,
    "deletable": true,
    "editable": true,
    "scrolled": true
   },
   "outputs": [],
   "source": [
    "vgg19_yolo_sofa = [0.111111,\n",
    "0.138889,\n",
    "0.138889,\n",
    "0.222222,\n",
    "0.277778,\n",
    "0.305556,\n",
    "0.333333,\n",
    "0.361111,\n",
    "0.416667,\n",
    "0.416667,\n",
    "0.444444,\n",
    "0.444444,\n",
    "0.527778,\n",
    "0.527778,\n",
    "0.583333,\n",
    "0.583333,\n",
    "0.638889,\n",
    "0.638889,\n",
    "0.638889,\n",
    "0.750000,\n",
    "0.777778,\n",
    "0.777778,\n",
    "0.805556,\n",
    "0.805556,\n",
    "0.805556,\n",
    "0.805556,\n",
    "0.805556,\n",
    "0.833333,\n",
    "0.888889,\n",
    "0.888889]\n",
    "vgg16_yolo_sofa = [\n",
    "0.083333,\n",
    "0.111111,\n",
    "0.138889,\n",
    "0.250000,\n",
    "0.305556,\n",
    "0.361111,\n",
    "0.416667,\n",
    "0.416667,\n",
    "0.444444,\n",
    "0.444444,\n",
    "0.527778,\n",
    "0.583333,\n",
    "0.611111,\n",
    "0.694444,\n",
    "0.694444,\n",
    "0.694444,\n",
    "0.694444,\n",
    "0.722222,\n",
    "0.722222,\n",
    "0.777778,\n",
    "0.777778,\n",
    "0.777778,\n",
    "0.777778,\n",
    "0.777778,\n",
    "0.777778,\n",
    "0.777778,\n",
    "0.805556,\n",
    "0.805556,\n",
    "0.805556,\n",
    "0.833333]\n",
    "bovw_sofa = [0.024390,\n",
    "0.036585,\n",
    "0.048780,\n",
    "0.048780,\n",
    "0.073171,\n",
    "0.073171,\n",
    "0.085366,\n",
    "0.134146,\n",
    "0.146341,\n",
    "0.158537,\n",
    "0.158537,\n",
    "0.207317,\n",
    "0.219512,\n",
    "0.231707,\n",
    "0.243902,\n",
    "0.268293,\n",
    "0.292683,\n",
    "0.304878,\n",
    "0.329268,\n",
    "0.341463,\n",
    "0.353659,\n",
    "0.353659,\n",
    "0.353659,\n",
    "0.390244,\n",
    "0.402439,\n",
    "0.402439,\n",
    "0.414634,\n",
    "0.426829,\n",
    "0.426829,\n",
    "0.439024]\n",
    "vgg19_sofa=[0.024390,\n",
    "0.036585,\n",
    "0.036585,\n",
    "0.048780,\n",
    "0.073171,\n",
    "0.085366,\n",
    "0.121951,\n",
    "0.146341,\n",
    "0.146341,\n",
    "0.146341,\n",
    "0.158537,\n",
    "0.170732,\n",
    "0.170732,\n",
    "0.182927,\n",
    "0.182927,\n",
    "0.231707,\n",
    "0.243902,\n",
    "0.280488,\n",
    "0.292683,\n",
    "0.304878,\n",
    "0.317073,\n",
    "0.329268,\n",
    "0.341463,\n",
    "0.353659,\n",
    "0.402439,\n",
    "0.414634,\n",
    "0.414634,\n",
    "0.414634,\n",
    "0.414634,\n",
    "0.414634]\n",
    "vgg16_sofa = [0.024390,\n",
    "0.048780,\n",
    "0.048780,\n",
    "0.060976,\n",
    "0.097561,\n",
    "0.097561,\n",
    "0.121951,\n",
    "0.146341,\n",
    "0.158537,\n",
    "0.158537,\n",
    "0.170732,\n",
    "0.195122,\n",
    "0.207317,\n",
    "0.207317,\n",
    "0.207317,\n",
    "0.219512,\n",
    "0.268293,\n",
    "0.292683,\n",
    "0.292683,\n",
    "0.329268,\n",
    "0.341463,\n",
    "0.353659,\n",
    "0.390244,\n",
    "0.402439,\n",
    "0.414634,\n",
    "0.414634,\n",
    "0.439024,\n",
    "0.439024,\n",
    "0.451220,\n",
    "0.463415]"
   ]
  },
  {
   "cell_type": "code",
   "execution_count": 30,
   "metadata": {
    "collapsed": true,
    "deletable": true,
    "editable": true,
    "scrolled": true
   },
   "outputs": [],
   "source": [
    "trace3 = go.Scatter(\n",
    "    x = k,\n",
    "    y = vgg19_yolo_sofa,\n",
    "    name = 'VGG 19 + YOLO',\n",
    "    mode='lines',\n",
    "    line = dict(\n",
    "        color = ('rgb(0,100,80)'),\n",
    "        width = 1)\n",
    "#     mode = 'lines'\n",
    ")\n",
    "trace4 = go.Scatter(\n",
    "    x = k,\n",
    "    y = vgg16_yolo_sofa,\n",
    "    name = 'VGG 16 + YOLO',\n",
    "    mode='lines',\n",
    "    line = dict(\n",
    "        color = ('rgb(0,176,246)'),\n",
    "        width = 1)\n",
    "#     mode = 'lines'\n",
    ")\n",
    "trace5 = go.Scatter(\n",
    "    x = k,\n",
    "    y = bovw_sofa,\n",
    "    name = 'BOVW (baseline)',\n",
    "    mode='lines',\n",
    "    line = dict(\n",
    "        color = ('rgb(231,107,243)'),\n",
    "        width = 1)\n",
    "#     mode = 'lines'\n",
    ")\n",
    "trace6 = go.Scatter(\n",
    "    x = k,\n",
    "    y = vgg19_sofa,\n",
    "    name = 'VGG 19',\n",
    "    mode='lines',\n",
    "    line = dict(\n",
    "        color = ('rgba(0,100,80,0.5)'),\n",
    "        width = 1)\n",
    "#     mode = 'lines'\n",
    ")\n",
    "trace7 = go.Scatter(\n",
    "    x = k,\n",
    "    y = vgg16_sofa,\n",
    "    name = 'VGG 16',\n",
    "    mode='lines',\n",
    "    line = dict(\n",
    "        color = ('rgba(0,176,246,0.5)'),\n",
    "        width = 1)\n",
    "#     mode = 'lines'\n",
    ")"
   ]
  },
  {
   "cell_type": "code",
   "execution_count": 31,
   "metadata": {
    "collapsed": true,
    "deletable": true,
    "editable": true,
    "scrolled": true
   },
   "outputs": [
    {
     "name": "stdout",
     "output_type": "stream",
     "text": [
      "This is the format of your plot grid:\n",
      "[ (1,1) x1,y1 ]  [ (1,2) x2,y2 ]\n",
      "\n",
      "High five! You successfuly sent some data to your account on plotly. View your plot in your browser at https://plot.ly/~ivonat/0 or inside your plot.ly account where it is named 'recall_sofa_chair'\n"
     ]
    },
    {
     "data": {
      "text/html": [
       "<iframe id=\"igraph\" scrolling=\"no\" style=\"border:none;\" seamless=\"seamless\" src=\"https://plot.ly/~ivonat/0.embed\" height=\"400px\" width=\"100%\"></iframe>"
      ],
      "text/plain": [
       "<plotly.tools.PlotlyDisplay object>"
      ]
     },
     "execution_count": 31,
     "metadata": {},
     "output_type": "execute_result"
    }
   ],
   "source": [
    "trace0 = go.Scatter(\n",
    "    x = k,\n",
    "    y = vgg19_yolo_chair,\n",
    "    showlegend = False,\n",
    "    mode='lines',\n",
    "    line = dict(\n",
    "        color = ('rgb(0,100,80)'),\n",
    "        width = 1)\n",
    "#     mode = 'lines'\n",
    ")\n",
    "\n",
    "trace1 = go.Scatter(\n",
    "    x = k,\n",
    "    y = vgg16_yolo_chair,\n",
    "    showlegend = False,\n",
    "    mode='lines',\n",
    "    line = dict(\n",
    "        color = ('rgb(0,176,246)'),\n",
    "        width = 1)\n",
    "#     mode = 'lines'\n",
    ")\n",
    "trace2 = go.Scatter(\n",
    "    x = k,\n",
    "    y = bovw_chair,\n",
    "    showlegend = False,\n",
    "    mode='lines',\n",
    "    line = dict(\n",
    "        color = ('rgb(231,107,243)'),\n",
    "        width = 1)\n",
    "#     mode = 'lines'\n",
    ")\n",
    "trace12 = go.Scatter(\n",
    "    x = k,\n",
    "    y = vgg19_chair,\n",
    "    showlegend = False,\n",
    "    mode='lines',\n",
    "    line = dict(\n",
    "        color = ('rgba(0,100,80, 0.5)'),\n",
    "        width = 1)\n",
    "#     mode = 'lines'\n",
    ")\n",
    "trace13 = go.Scatter(\n",
    "    x = k,\n",
    "    y = vgg16_chair,\n",
    "    showlegend = False,\n",
    "    mode='lines',\n",
    "    line = dict(\n",
    "        color = ('rgba(0,176,246,0.5)'),\n",
    "        width = 1)\n",
    "#     mode = 'lines'\n",
    ")\n",
    "\n",
    "fig = plotly.tools.make_subplots(rows=1, cols=2, subplot_titles=('Chair', 'Sofa'))\n",
    "fig.append_trace(trace0, 1, 1)\n",
    "fig.append_trace(trace1, 1, 1)\n",
    "fig.append_trace(trace2, 1, 1)\n",
    "fig.append_trace(trace12, 1, 1)\n",
    "fig.append_trace(trace13, 1, 1)\n",
    "fig.append_trace(trace3, 1, 2)\n",
    "fig.append_trace(trace4, 1, 2)\n",
    "fig.append_trace(trace5, 1, 2)\n",
    "fig.append_trace(trace6, 1, 2)\n",
    "fig.append_trace(trace7, 1, 2)\n",
    "fig['layout'].update(height=400, )\n",
    "fig['layout']['xaxis1'].update(title='Top k')\n",
    "fig['layout']['yaxis1'].update(title='Mean recall')\n",
    "fig['layout']['xaxis2'].update(title='Top k')\n",
    "py.iplot(fig, filename='recall_sofa_chair')"
   ]
  },
  {
   "cell_type": "markdown",
   "metadata": {
    "deletable": true,
    "editable": true
   },
   "source": [
    "### Table"
   ]
  },
  {
   "cell_type": "code",
   "execution_count": 38,
   "metadata": {
    "collapsed": false,
    "deletable": true,
    "editable": true,
    "scrolled": true
   },
   "outputs": [],
   "source": [
    "vgg19_yolo_table = [0.081081,\n",
    "0.135135,\n",
    "0.135135,\n",
    "0.189189,\n",
    "0.189189,\n",
    "0.243243,\n",
    "0.270270,\n",
    "0.270270,\n",
    "0.351351,\n",
    "0.432432,\n",
    "0.486486,\n",
    "0.486486,\n",
    "0.513514,\n",
    "0.567568,\n",
    "0.567568,\n",
    "0.567568,\n",
    "0.567568,\n",
    "0.594595,\n",
    "0.594595,\n",
    "0.594595,\n",
    "0.594595,\n",
    "0.594595,\n",
    "0.594595,\n",
    "0.594595,\n",
    "0.594595,\n",
    "0.594595,\n",
    "0.594595,\n",
    "0.594595,\n",
    "0.594595,\n",
    "0.594595]\n",
    "bovw_table = [0.006579,\n",
    "0.013158,\n",
    "0.019737,\n",
    "0.032895,\n",
    "0.039474,\n",
    "0.046053,\n",
    "0.065789,\n",
    "0.092105,\n",
    "0.098684,\n",
    "0.098684,\n",
    "0.111842,\n",
    "0.131579,\n",
    "0.138158,\n",
    "0.138158,\n",
    "0.144737,\n",
    "0.151316,\n",
    "0.164474,\n",
    "0.184211,\n",
    "0.184211,\n",
    "0.190789,\n",
    "0.217105,\n",
    "0.223684,\n",
    "0.230263,\n",
    "0.250000,\n",
    "0.263158,\n",
    "0.263158,\n",
    "0.263158,\n",
    "0.263158,\n",
    "0.263158,\n",
    "0.269737]\n"
   ]
  },
  {
   "cell_type": "code",
   "execution_count": 39,
   "metadata": {
    "collapsed": true,
    "deletable": true,
    "editable": true,
    "scrolled": true
   },
   "outputs": [
    {
     "data": {
      "text/html": [
       "<iframe id=\"igraph\" scrolling=\"no\" style=\"border:none;\" seamless=\"seamless\" src=\"https://plot.ly/~ivonatau/16.embed\" height=\"525px\" width=\"100%\"></iframe>"
      ],
      "text/plain": [
       "<plotly.tools.PlotlyDisplay object>"
      ]
     },
     "execution_count": 39,
     "metadata": {},
     "output_type": "execute_result"
    }
   ],
   "source": [
    "trace0 = go.Scatter(\n",
    "    x = k,\n",
    "    y = vgg19_yolo_table,\n",
    "    name = 'VGG 19 + YOLO',\n",
    "    mode='lines+markers',\n",
    "    line = dict(\n",
    "        color = ('rgb(22, 96, 167)'),\n",
    "        width = 4)\n",
    "#     mode = 'lines'\n",
    ")\n",
    "trace2 = go.Scatter(\n",
    "    x = k,\n",
    "    y = bovw_table,\n",
    "    name = 'BOVW',\n",
    "    mode='lines+markers',\n",
    "    line = dict(\n",
    "        color = ('rgb(22, 96, 167)'),\n",
    "        width = 4)\n",
    "#     mode = 'lines'\n",
    ")\n",
    "data = [trace0, trace2]\n",
    "\n",
    "layout = dict(title = 'Object class - table',\n",
    "              xaxis = dict(title = 'Top k'),\n",
    "              yaxis = dict(title = 'Mean recall'),\n",
    "              showlegend=True\n",
    "              )\n",
    "\n",
    "fig = dict(data=data, layout=layout)\n",
    "py.iplot(fig, filename='chair-recall')"
   ]
  },
  {
   "cell_type": "markdown",
   "metadata": {
    "deletable": true,
    "editable": true
   },
   "source": [
    "### Sofa"
   ]
  },
  {
   "cell_type": "code",
   "execution_count": 42,
   "metadata": {
    "collapsed": false,
    "deletable": true,
    "editable": true,
    "scrolled": true
   },
   "outputs": [],
   "source": []
  },
  {
   "cell_type": "code",
   "execution_count": 44,
   "metadata": {
    "collapsed": true,
    "deletable": true,
    "editable": true,
    "scrolled": true
   },
   "outputs": [
    {
     "data": {
      "text/html": [
       "<iframe id=\"igraph\" scrolling=\"no\" style=\"border:none;\" seamless=\"seamless\" src=\"https://plot.ly/~ivonatau/16.embed\" height=\"525px\" width=\"100%\"></iframe>"
      ],
      "text/plain": [
       "<plotly.tools.PlotlyDisplay object>"
      ]
     },
     "execution_count": 44,
     "metadata": {},
     "output_type": "execute_result"
    }
   ],
   "source": [
    "trace0 = go.Scatter(\n",
    "    x = k,\n",
    "    y = vgg_sofa,\n",
    "    name = 'VGG 19 + YOLO',\n",
    "    mode='lines+markers',\n",
    "    line = dict(\n",
    "        color = ('rgb(22, 96, 167)'),\n",
    "        width = 4)\n",
    "#     mode = 'lines'\n",
    ")\n",
    "trace1 = go.Scatter(\n",
    "    x = k,\n",
    "    y = vgg16_sofa,\n",
    "    name = 'VGG 16 + YOLO',\n",
    "    mode='lines+markers',\n",
    "    line = dict(\n",
    "        color = ('rgb(22, 96, 167)'),\n",
    "        width = 4)\n",
    "#     mode = 'lines'\n",
    ")\n",
    "trace2 = go.Scatter(\n",
    "    x = k,\n",
    "    y = bovw_sofa,\n",
    "    name = 'BOVW',\n",
    "    mode='lines+markers',\n",
    "    line = dict(\n",
    "        color = ('rgb(22, 96, 167)'),\n",
    "        width = 4)\n",
    "#     mode = 'lines'\n",
    ")\n",
    "data = [trace0, trace1, trace2]\n",
    "\n",
    "layout = dict(title = 'Object class - sofa',\n",
    "              xaxis = dict(title = 'Top k'),\n",
    "              yaxis = dict(title = 'Mean recall'),\n",
    "              showlegend=True\n",
    "              )\n",
    "\n",
    "fig = dict(data=data, layout=layout)\n",
    "py.iplot(fig, filename='chair-recall')"
   ]
  },
  {
   "cell_type": "markdown",
   "metadata": {
    "collapsed": false,
    "deletable": true,
    "editable": true
   },
   "source": []
  },
  {
   "cell_type": "code",
   "execution_count": 86,
   "metadata": {
    "collapsed": false,
    "deletable": true,
    "editable": true
   },
   "outputs": [],
   "source": []
  },
  {
   "cell_type": "code",
   "execution_count": 87,
   "metadata": {
    "collapsed": true,
    "deletable": true,
    "editable": true
   },
   "outputs": [],
   "source": []
  },
  {
   "cell_type": "code",
   "execution_count": null,
   "metadata": {
    "collapsed": false,
    "deletable": true,
    "editable": true,
    "scrolled": true
   },
   "outputs": [],
   "source": []
  },
  {
   "cell_type": "code",
   "execution_count": 91,
   "metadata": {
    "collapsed": false,
    "deletable": true,
    "editable": true,
    "scrolled": true
   },
   "outputs": [],
   "source": []
  },
  {
   "cell_type": "code",
   "execution_count": null,
   "metadata": {
    "collapsed": false,
    "deletable": true,
    "editable": true
   },
   "outputs": [],
   "source": []
  },
  {
   "cell_type": "code",
   "execution_count": null,
   "metadata": {
    "collapsed": true,
    "deletable": true,
    "editable": true
   },
   "outputs": [],
   "source": []
  }
 ],
 "metadata": {
  "kernelspec": {
   "display_name": "Python 3",
   "language": "python",
   "name": "python3"
  },
  "language_info": {
   "codemirror_mode": {
    "name": "ipython",
    "version": 3
   },
   "file_extension": ".py",
   "mimetype": "text/x-python",
   "name": "python",
   "nbconvert_exporter": "python",
   "pygments_lexer": "ipython3",
   "version": "3.6.0"
  }
 },
 "nbformat": 4,
 "nbformat_minor": 2
}
